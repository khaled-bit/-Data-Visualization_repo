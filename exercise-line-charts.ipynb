{
 "cells": [
  {
   "cell_type": "markdown",
   "id": "a8ff9fec",
   "metadata": {
    "papermill": {
     "duration": 0.007139,
     "end_time": "2022-07-19T19:26:05.092366",
     "exception": false,
     "start_time": "2022-07-19T19:26:05.085227",
     "status": "completed"
    },
    "tags": []
   },
   "source": [
    "**This notebook is an exercise in the [Data Visualization](https://www.kaggle.com/learn/data-visualization) course.  You can reference the tutorial at [this link](https://www.kaggle.com/alexisbcook/line-charts).**\n",
    "\n",
    "---\n"
   ]
  },
  {
   "cell_type": "markdown",
   "id": "b78a3e33",
   "metadata": {
    "papermill": {
     "duration": 0.005805,
     "end_time": "2022-07-19T19:26:05.104519",
     "exception": false,
     "start_time": "2022-07-19T19:26:05.098714",
     "status": "completed"
    },
    "tags": []
   },
   "source": [
    "In this exercise, you will use your new knowledge to propose a solution to a real-world scenario. To succeed, you will need to import data into Python, answer questions using the data, and generate **line charts** to understand patterns in the data.\n",
    "\n",
    "## Scenario\n",
    "\n",
    "You have recently been hired to manage the museums in the City of Los Angeles. Your first project focuses on the four museums pictured in the images below.\n",
    "\n",
    "![ex1_museums](https://i.imgur.com/pFYL8J1.png)\n",
    "\n",
    "You will leverage data from the Los Angeles [Data Portal](https://data.lacity.org/) that tracks monthly visitors to each museum.  \n",
    "\n",
    "![ex1_xlsx](https://i.imgur.com/mGWYlym.png)\n",
    "\n",
    "## Setup\n",
    "\n",
    "Run the next cell to import and configure the Python libraries that you need to complete the exercise."
   ]
  },
  {
   "cell_type": "code",
   "execution_count": 1,
   "id": "19f46f03",
   "metadata": {
    "execution": {
     "iopub.execute_input": "2022-07-19T19:26:05.118602Z",
     "iopub.status.busy": "2022-07-19T19:26:05.118214Z",
     "iopub.status.idle": "2022-07-19T19:26:06.132420Z",
     "shell.execute_reply": "2022-07-19T19:26:06.131297Z"
    },
    "papermill": {
     "duration": 1.024704,
     "end_time": "2022-07-19T19:26:06.135250",
     "exception": false,
     "start_time": "2022-07-19T19:26:05.110546",
     "status": "completed"
    },
    "tags": []
   },
   "outputs": [
    {
     "name": "stdout",
     "output_type": "stream",
     "text": [
      "Setup Complete\n"
     ]
    }
   ],
   "source": [
    "import pandas as pd\n",
    "pd.plotting.register_matplotlib_converters()\n",
    "import matplotlib.pyplot as plt\n",
    "%matplotlib inline\n",
    "import seaborn as sns\n",
    "print(\"Setup Complete\")"
   ]
  },
  {
   "cell_type": "markdown",
   "id": "17eb45eb",
   "metadata": {
    "papermill": {
     "duration": 0.005787,
     "end_time": "2022-07-19T19:26:06.147227",
     "exception": false,
     "start_time": "2022-07-19T19:26:06.141440",
     "status": "completed"
    },
    "tags": []
   },
   "source": [
    "The questions below will give you feedback on your work. Run the following cell to set up the feedback system."
   ]
  },
  {
   "cell_type": "code",
   "execution_count": 2,
   "id": "c648720d",
   "metadata": {
    "execution": {
     "iopub.execute_input": "2022-07-19T19:26:06.161120Z",
     "iopub.status.busy": "2022-07-19T19:26:06.160697Z",
     "iopub.status.idle": "2022-07-19T19:26:06.222407Z",
     "shell.execute_reply": "2022-07-19T19:26:06.221203Z"
    },
    "papermill": {
     "duration": 0.071848,
     "end_time": "2022-07-19T19:26:06.225390",
     "exception": false,
     "start_time": "2022-07-19T19:26:06.153542",
     "status": "completed"
    },
    "tags": []
   },
   "outputs": [
    {
     "name": "stdout",
     "output_type": "stream",
     "text": [
      "Setup Complete\n"
     ]
    }
   ],
   "source": [
    "# Set up code checking\n",
    "import os\n",
    "if not os.path.exists(\"../input/museum_visitors.csv\"):\n",
    "    os.symlink(\"../input/data-for-datavis/museum_visitors.csv\", \"../input/museum_visitors.csv\") \n",
    "from learntools.core import binder\n",
    "binder.bind(globals())\n",
    "from learntools.data_viz_to_coder.ex2 import *\n",
    "print(\"Setup Complete\")"
   ]
  },
  {
   "cell_type": "markdown",
   "id": "b46b43f9",
   "metadata": {
    "papermill": {
     "duration": 0.00811,
     "end_time": "2022-07-19T19:26:06.242005",
     "exception": false,
     "start_time": "2022-07-19T19:26:06.233895",
     "status": "completed"
    },
    "tags": []
   },
   "source": [
    "## Step 1: Load the data\n",
    "\n",
    "Your first assignment is to read the LA Museum Visitors data file into `museum_data`.  Note that:\n",
    "- The filepath to the dataset is stored as `museum_filepath`.  Please **do not** change the provided value of the filepath.\n",
    "- The name of the column to use as row labels is `\"Date\"`.  (This can be seen in cell A1 when the file is opened in Excel.)\n",
    "\n",
    "To help with this, you may find it useful to revisit some relevant code from the tutorial, which we have pasted below:\n",
    "\n",
    "```python\n",
    "# Path of the file to read\n",
    "spotify_filepath = \"../input/spotify.csv\"\n",
    "\n",
    "# Read the file into a variable spotify_data\n",
    "spotify_data = pd.read_csv(spotify_filepath, index_col=\"Date\", parse_dates=True)\n",
    "```\n",
    "\n",
    "The code you need to write now looks very similar!"
   ]
  },
  {
   "cell_type": "code",
   "execution_count": 3,
   "id": "da4ea25d",
   "metadata": {
    "execution": {
     "iopub.execute_input": "2022-07-19T19:26:06.259028Z",
     "iopub.status.busy": "2022-07-19T19:26:06.258093Z",
     "iopub.status.idle": "2022-07-19T19:26:06.280376Z",
     "shell.execute_reply": "2022-07-19T19:26:06.277287Z"
    },
    "papermill": {
     "duration": 0.032351,
     "end_time": "2022-07-19T19:26:06.282515",
     "exception": false,
     "start_time": "2022-07-19T19:26:06.250164",
     "status": "completed"
    },
    "tags": []
   },
   "outputs": [
    {
     "data": {
      "application/javascript": [
       "parent.postMessage({\"jupyterEvent\": \"custom.exercise_interaction\", \"data\": {\"outcomeType\": 1, \"valueTowardsCompletion\": 0.3333333333333333, \"interactionType\": 1, \"questionType\": 1, \"questionId\": \"1_LoadMuseumData\", \"learnToolsVersion\": \"0.3.4\", \"failureMessage\": \"\", \"exceptionClass\": \"\", \"trace\": \"\"}}, \"*\")"
      ],
      "text/plain": [
       "<IPython.core.display.Javascript object>"
      ]
     },
     "metadata": {},
     "output_type": "display_data"
    },
    {
     "data": {
      "text/markdown": [
       "<span style=\"color:#33cc33\">Correct</span>"
      ],
      "text/plain": [
       "Correct"
      ]
     },
     "metadata": {},
     "output_type": "display_data"
    }
   ],
   "source": [
    "# Path of the file to read\n",
    "museum_filepath = \"../input/museum_visitors.csv\"\n",
    "\n",
    "# Fill in the line below to read the file into a variable museum_data\n",
    "museum_data = pd.read_csv(museum_filepath, index_col='Date',parse_dates=True)\n",
    "\n",
    "\n",
    "# Run the line below with no changes to check that you've loaded the data correctly\n",
    "step_1.check()"
   ]
  },
  {
   "cell_type": "code",
   "execution_count": 4,
   "id": "4f9d7107",
   "metadata": {
    "execution": {
     "iopub.execute_input": "2022-07-19T19:26:06.300370Z",
     "iopub.status.busy": "2022-07-19T19:26:06.299645Z",
     "iopub.status.idle": "2022-07-19T19:26:06.304093Z",
     "shell.execute_reply": "2022-07-19T19:26:06.302964Z"
    },
    "papermill": {
     "duration": 0.015715,
     "end_time": "2022-07-19T19:26:06.306191",
     "exception": false,
     "start_time": "2022-07-19T19:26:06.290476",
     "status": "completed"
    },
    "tags": []
   },
   "outputs": [],
   "source": [
    "# Uncomment the line below to receive a hint\n",
    "#step_1.hint()\n",
    "# Uncomment the line below to see the solution\n",
    "#step_1.solution()"
   ]
  },
  {
   "cell_type": "markdown",
   "id": "03504ac5",
   "metadata": {
    "papermill": {
     "duration": 0.008419,
     "end_time": "2022-07-19T19:26:06.322464",
     "exception": false,
     "start_time": "2022-07-19T19:26:06.314045",
     "status": "completed"
    },
    "tags": []
   },
   "source": [
    "## Step 2: Review the data\n",
    "\n",
    "Use a Python command to print the last 5 rows of the data."
   ]
  },
  {
   "cell_type": "code",
   "execution_count": 5,
   "id": "69448430",
   "metadata": {
    "execution": {
     "iopub.execute_input": "2022-07-19T19:26:06.337300Z",
     "iopub.status.busy": "2022-07-19T19:26:06.336906Z",
     "iopub.status.idle": "2022-07-19T19:26:06.350008Z",
     "shell.execute_reply": "2022-07-19T19:26:06.349270Z"
    },
    "papermill": {
     "duration": 0.02302,
     "end_time": "2022-07-19T19:26:06.352041",
     "exception": false,
     "start_time": "2022-07-19T19:26:06.329021",
     "status": "completed"
    },
    "tags": []
   },
   "outputs": [
    {
     "data": {
      "text/html": [
       "<div>\n",
       "<style scoped>\n",
       "    .dataframe tbody tr th:only-of-type {\n",
       "        vertical-align: middle;\n",
       "    }\n",
       "\n",
       "    .dataframe tbody tr th {\n",
       "        vertical-align: top;\n",
       "    }\n",
       "\n",
       "    .dataframe thead th {\n",
       "        text-align: right;\n",
       "    }\n",
       "</style>\n",
       "<table border=\"1\" class=\"dataframe\">\n",
       "  <thead>\n",
       "    <tr style=\"text-align: right;\">\n",
       "      <th></th>\n",
       "      <th>Avila Adobe</th>\n",
       "      <th>Firehouse Museum</th>\n",
       "      <th>Chinese American Museum</th>\n",
       "      <th>America Tropical Interpretive Center</th>\n",
       "    </tr>\n",
       "    <tr>\n",
       "      <th>Date</th>\n",
       "      <th></th>\n",
       "      <th></th>\n",
       "      <th></th>\n",
       "      <th></th>\n",
       "    </tr>\n",
       "  </thead>\n",
       "  <tbody>\n",
       "    <tr>\n",
       "      <th>2018-07-01</th>\n",
       "      <td>23136</td>\n",
       "      <td>4191</td>\n",
       "      <td>2620</td>\n",
       "      <td>4718</td>\n",
       "    </tr>\n",
       "    <tr>\n",
       "      <th>2018-08-01</th>\n",
       "      <td>20815</td>\n",
       "      <td>4866</td>\n",
       "      <td>2409</td>\n",
       "      <td>3891</td>\n",
       "    </tr>\n",
       "    <tr>\n",
       "      <th>2018-09-01</th>\n",
       "      <td>21020</td>\n",
       "      <td>4956</td>\n",
       "      <td>2146</td>\n",
       "      <td>3180</td>\n",
       "    </tr>\n",
       "    <tr>\n",
       "      <th>2018-10-01</th>\n",
       "      <td>19280</td>\n",
       "      <td>4622</td>\n",
       "      <td>2364</td>\n",
       "      <td>3775</td>\n",
       "    </tr>\n",
       "    <tr>\n",
       "      <th>2018-11-01</th>\n",
       "      <td>17163</td>\n",
       "      <td>4082</td>\n",
       "      <td>2385</td>\n",
       "      <td>4562</td>\n",
       "    </tr>\n",
       "  </tbody>\n",
       "</table>\n",
       "</div>"
      ],
      "text/plain": [
       "            Avila Adobe  Firehouse Museum  Chinese American Museum  \\\n",
       "Date                                                                 \n",
       "2018-07-01        23136              4191                     2620   \n",
       "2018-08-01        20815              4866                     2409   \n",
       "2018-09-01        21020              4956                     2146   \n",
       "2018-10-01        19280              4622                     2364   \n",
       "2018-11-01        17163              4082                     2385   \n",
       "\n",
       "            America Tropical Interpretive Center  \n",
       "Date                                              \n",
       "2018-07-01                                  4718  \n",
       "2018-08-01                                  3891  \n",
       "2018-09-01                                  3180  \n",
       "2018-10-01                                  3775  \n",
       "2018-11-01                                  4562  "
      ]
     },
     "execution_count": 5,
     "metadata": {},
     "output_type": "execute_result"
    }
   ],
   "source": [
    "# Print the last five rows of the data \n",
    "____ # Your code here\n",
    "museum_data.tail()"
   ]
  },
  {
   "cell_type": "markdown",
   "id": "b52902d3",
   "metadata": {
    "papermill": {
     "duration": 0.006605,
     "end_time": "2022-07-19T19:26:06.365585",
     "exception": false,
     "start_time": "2022-07-19T19:26:06.358980",
     "status": "completed"
    },
    "tags": []
   },
   "source": [
    "The last row (for `2018-11-01`) tracks the number of visitors to each museum in November 2018, the next-to-last row (for `2018-10-01`) tracks the number of visitors to each museum in October 2018, _and so on_.\n",
    "\n",
    "Use the last 5 rows of the data to answer the questions below."
   ]
  },
  {
   "cell_type": "code",
   "execution_count": 6,
   "id": "e0b568ab",
   "metadata": {
    "execution": {
     "iopub.execute_input": "2022-07-19T19:26:06.381205Z",
     "iopub.status.busy": "2022-07-19T19:26:06.380794Z",
     "iopub.status.idle": "2022-07-19T19:26:06.389540Z",
     "shell.execute_reply": "2022-07-19T19:26:06.388560Z"
    },
    "papermill": {
     "duration": 0.018937,
     "end_time": "2022-07-19T19:26:06.391413",
     "exception": false,
     "start_time": "2022-07-19T19:26:06.372476",
     "status": "completed"
    },
    "tags": []
   },
   "outputs": [
    {
     "data": {
      "application/javascript": [
       "parent.postMessage({\"jupyterEvent\": \"custom.exercise_interaction\", \"data\": {\"outcomeType\": 1, \"valueTowardsCompletion\": 0.3333333333333333, \"interactionType\": 1, \"questionType\": 1, \"questionId\": \"2_ReviewData\", \"learnToolsVersion\": \"0.3.4\", \"failureMessage\": \"\", \"exceptionClass\": \"\", \"trace\": \"\"}}, \"*\")"
      ],
      "text/plain": [
       "<IPython.core.display.Javascript object>"
      ]
     },
     "metadata": {},
     "output_type": "display_data"
    },
    {
     "data": {
      "text/markdown": [
       "<span style=\"color:#33cc33\">Correct</span>"
      ],
      "text/plain": [
       "Correct"
      ]
     },
     "metadata": {},
     "output_type": "display_data"
    }
   ],
   "source": [
    "# Fill in the line below: How many visitors did the Chinese American Museum \n",
    "# receive in July 2018?\n",
    "ca_museum_jul18 = 2620 \n",
    "# Fill in the line below: In October 2018, how many more visitors did Avila \n",
    "# Adobe receive than the Firehouse Museum?\n",
    "avila_oct18 = 14658\n",
    "\n",
    "# Check your answers\n",
    "step_2.check()"
   ]
  },
  {
   "cell_type": "code",
   "execution_count": 7,
   "id": "f334e221",
   "metadata": {
    "execution": {
     "iopub.execute_input": "2022-07-19T19:26:06.407212Z",
     "iopub.status.busy": "2022-07-19T19:26:06.406567Z",
     "iopub.status.idle": "2022-07-19T19:26:06.410107Z",
     "shell.execute_reply": "2022-07-19T19:26:06.409357Z"
    },
    "papermill": {
     "duration": 0.013601,
     "end_time": "2022-07-19T19:26:06.411994",
     "exception": false,
     "start_time": "2022-07-19T19:26:06.398393",
     "status": "completed"
    },
    "tags": []
   },
   "outputs": [],
   "source": [
    "# Lines below will give you a hint or solution code\n",
    "#step_2.hint()\n",
    "#step_2.solution()"
   ]
  },
  {
   "cell_type": "markdown",
   "id": "1297516e",
   "metadata": {
    "papermill": {
     "duration": 0.006613,
     "end_time": "2022-07-19T19:26:06.425907",
     "exception": false,
     "start_time": "2022-07-19T19:26:06.419294",
     "status": "completed"
    },
    "tags": []
   },
   "source": [
    "## Step 3: Convince the museum board \n",
    "\n",
    "The Firehouse Museum claims they ran an event in 2014 that brought an incredible number of visitors, and that they should get extra budget to run a similar event again.  The other museums think these types of events aren't that important, and budgets should be split purely based on recent visitors on an average day.  \n",
    "\n",
    "To show the museum board how the event compared to regular traffic at each museum, create a line chart that shows how the number of visitors to each museum evolved over time.  Your figure should have four lines (one for each museum).\n",
    "\n",
    "> **(Optional) Note**: If you have some prior experience with plotting figures in Python, you might be familiar with the `plt.show()` command.  If you decide to use this command, please place it **after** the line of code that checks your answer (in this case, place it after `step_3.check()` below) -- otherwise, the checking code will return an error!"
   ]
  },
  {
   "cell_type": "code",
   "execution_count": 8,
   "id": "db580357",
   "metadata": {
    "execution": {
     "iopub.execute_input": "2022-07-19T19:26:06.441221Z",
     "iopub.status.busy": "2022-07-19T19:26:06.440796Z",
     "iopub.status.idle": "2022-07-19T19:26:06.822950Z",
     "shell.execute_reply": "2022-07-19T19:26:06.821835Z"
    },
    "papermill": {
     "duration": 0.392468,
     "end_time": "2022-07-19T19:26:06.825304",
     "exception": false,
     "start_time": "2022-07-19T19:26:06.432836",
     "status": "completed"
    },
    "tags": []
   },
   "outputs": [
    {
     "data": {
      "application/javascript": [
       "parent.postMessage({\"jupyterEvent\": \"custom.exercise_interaction\", \"data\": {\"outcomeType\": 1, \"valueTowardsCompletion\": 0.3333333333333333, \"interactionType\": 1, \"questionType\": 2, \"questionId\": \"3_PlotAll\", \"learnToolsVersion\": \"0.3.4\", \"failureMessage\": \"\", \"exceptionClass\": \"\", \"trace\": \"\"}}, \"*\")"
      ],
      "text/plain": [
       "<IPython.core.display.Javascript object>"
      ]
     },
     "metadata": {},
     "output_type": "display_data"
    },
    {
     "data": {
      "text/markdown": [
       "<span style=\"color:#33cc33\">Correct</span>"
      ],
      "text/plain": [
       "Correct"
      ]
     },
     "metadata": {},
     "output_type": "display_data"
    },
    {
     "data": {
      "image/png": "[encoded data removed]",
      "text/plain": [
       "<Figure size 1008x144 with 1 Axes>"
      ]
     },
     "metadata": {
      "needs_background": "light"
     },
     "output_type": "display_data"
    }
   ],
   "source": [
    "# Line chart showing the number of visitors to each museum over time\n",
    "____ # Your code here\n",
    "plt.figure(figsize=(14,2))\n",
    "plt.title(\"from 2014-2019\")\n",
    "\n",
    "sns.lineplot(data=museum_data)\n",
    "# Check your answer\n",
    "step_3.check()"
   ]
  },
  {
   "cell_type": "code",
   "execution_count": 9,
   "id": "2461c458",
   "metadata": {
    "execution": {
     "iopub.execute_input": "2022-07-19T19:26:06.843859Z",
     "iopub.status.busy": "2022-07-19T19:26:06.843459Z",
     "iopub.status.idle": "2022-07-19T19:26:06.847665Z",
     "shell.execute_reply": "2022-07-19T19:26:06.846603Z"
    },
    "papermill": {
     "duration": 0.016308,
     "end_time": "2022-07-19T19:26:06.849853",
     "exception": false,
     "start_time": "2022-07-19T19:26:06.833545",
     "status": "completed"
    },
    "tags": []
   },
   "outputs": [],
   "source": [
    "# Lines below will give you a hint or solution code\n",
    "#step_3.hint()\n",
    "#step_3.solution_plot()"
   ]
  },
  {
   "cell_type": "markdown",
   "id": "42203a27",
   "metadata": {
    "papermill": {
     "duration": 0.008022,
     "end_time": "2022-07-19T19:26:06.866144",
     "exception": false,
     "start_time": "2022-07-19T19:26:06.858122",
     "status": "completed"
    },
    "tags": []
   },
   "source": [
    "## Step 4: Assess seasonality\n",
    "\n",
    "When meeting with the employees at Avila Adobe, you hear that one major pain point is that the number of museum visitors varies greatly with the seasons, with low seasons (when the employees are perfectly staffed and happy) and also high seasons (when the employees are understaffed and stressed).  You realize that if you can predict these high and low seasons, you can plan ahead to hire some additional seasonal employees to help out with the extra work.\n",
    "\n",
    "#### Part A\n",
    "Create a line chart that shows how the number of visitors to Avila Adobe has evolved over time.  (_If your code returns an error, the first thing that you should check is that you've spelled the name of the column correctly!  You must write the name of the column exactly as it appears in the dataset._)"
   ]
  },
  {
   "cell_type": "code",
   "execution_count": 10,
   "id": "773b3ffc",
   "metadata": {
    "execution": {
     "iopub.execute_input": "2022-07-19T19:26:06.884133Z",
     "iopub.status.busy": "2022-07-19T19:26:06.883723Z",
     "iopub.status.idle": "2022-07-19T19:26:07.136949Z",
     "shell.execute_reply": "2022-07-19T19:26:07.135792Z"
    },
    "papermill": {
     "duration": 0.265129,
     "end_time": "2022-07-19T19:26:07.139456",
     "exception": false,
     "start_time": "2022-07-19T19:26:06.874327",
     "status": "completed"
    },
    "tags": []
   },
   "outputs": [
    {
     "name": "stdout",
     "output_type": "stream",
     "text": [
      "Thank you for creating a line chart!  To see how your code compares to the official solution, please use the code cell below.\n"
     ]
    },
    {
     "data": {
      "application/javascript": [
       "parent.postMessage({\"jupyterEvent\": \"custom.exercise_interaction\", \"data\": {\"outcomeType\": 1, \"valueTowardsCompletion\": 0.3333333333333333, \"interactionType\": 1, \"questionType\": 2, \"questionId\": \"4.1_PlotAvila\", \"learnToolsVersion\": \"0.3.4\", \"failureMessage\": \"\", \"exceptionClass\": \"\", \"trace\": \"\"}}, \"*\")"
      ],
      "text/plain": [
       "<IPython.core.display.Javascript object>"
      ]
     },
     "metadata": {},
     "output_type": "display_data"
    },
    {
     "data": {
      "text/markdown": [
       "<span style=\"color:#33cc33\">Correct</span>"
      ],
      "text/plain": [
       "Correct"
      ]
     },
     "metadata": {},
     "output_type": "display_data"
    },
    {
     "data": {
      "image/png": "[encoded data removed]",
      "text/plain": [
       "<Figure size 432x288 with 1 Axes>"
      ]
     },
     "metadata": {
      "needs_background": "light"
     },
     "output_type": "display_data"
    }
   ],
   "source": [
    "# Line plot showing the number of visitors to Avila Adobe over time\n",
    "____ # Your code here\n",
    "sns.lineplot(data=museum_data['Avila Adobe'], label='Avila Adobe')\n",
    "plt.xlabel(\"Date\")\n",
    "plt.ylabel(\"Visitors\")\n",
    "plt.title(\"Monthly Visitors to Avila Adobe Museum\")\n",
    "# Check your answer\n",
    "step_4.a.check()"
   ]
  },
  {
   "cell_type": "code",
   "execution_count": 11,
   "id": "a20748cd",
   "metadata": {
    "execution": {
     "iopub.execute_input": "2022-07-19T19:26:07.159285Z",
     "iopub.status.busy": "2022-07-19T19:26:07.158905Z",
     "iopub.status.idle": "2022-07-19T19:26:07.163105Z",
     "shell.execute_reply": "2022-07-19T19:26:07.162114Z"
    },
    "papermill": {
     "duration": 0.016469,
     "end_time": "2022-07-19T19:26:07.165221",
     "exception": false,
     "start_time": "2022-07-19T19:26:07.148752",
     "status": "completed"
    },
    "tags": []
   },
   "outputs": [],
   "source": [
    "# Lines below will give you a hint or solution code\n",
    "#step_4.a.hint()\n",
    "#step_4.a.solution_plot()"
   ]
  },
  {
   "cell_type": "markdown",
   "id": "0ec0b294",
   "metadata": {
    "papermill": {
     "duration": 0.009291,
     "end_time": "2022-07-19T19:26:07.184052",
     "exception": false,
     "start_time": "2022-07-19T19:26:07.174761",
     "status": "completed"
    },
    "tags": []
   },
   "source": [
    "#### Part B\n",
    "\n",
    "Does Avila Adobe get more visitors:\n",
    "- in September-February (in LA, the fall and winter months), or \n",
    "- in March-August (in LA, the spring and summer)?  \n",
    "\n",
    "Using this information, when should the museum staff additional seasonal employees?"
   ]
  },
  {
   "cell_type": "markdown",
   "id": "2daff2d9",
   "metadata": {
    "papermill": {
     "duration": 0.008913,
     "end_time": "2022-07-19T19:26:07.202030",
     "exception": false,
     "start_time": "2022-07-19T19:26:07.193117",
     "status": "completed"
    },
    "tags": []
   },
   "source": [
    "* My answer: according to the graph there's a repeated pattern that at the beginnig of the year Avila Adobe get more visitors in March-August so, the museum should staff additional employees for these seasons."
   ]
  },
  {
   "cell_type": "code",
   "execution_count": 12,
   "id": "6e764ae6",
   "metadata": {
    "execution": {
     "iopub.execute_input": "2022-07-19T19:26:07.222760Z",
     "iopub.status.busy": "2022-07-19T19:26:07.221545Z",
     "iopub.status.idle": "2022-07-19T19:26:07.227258Z",
     "shell.execute_reply": "2022-07-19T19:26:07.226418Z"
    },
    "papermill": {
     "duration": 0.018389,
     "end_time": "2022-07-19T19:26:07.229522",
     "exception": false,
     "start_time": "2022-07-19T19:26:07.211133",
     "status": "completed"
    },
    "tags": []
   },
   "outputs": [],
   "source": [
    "#step_4.b.hint()"
   ]
  },
  {
   "cell_type": "code",
   "execution_count": 13,
   "id": "d4485bbb",
   "metadata": {
    "execution": {
     "iopub.execute_input": "2022-07-19T19:26:07.250909Z",
     "iopub.status.busy": "2022-07-19T19:26:07.249617Z",
     "iopub.status.idle": "2022-07-19T19:26:07.259302Z",
     "shell.execute_reply": "2022-07-19T19:26:07.258280Z"
    },
    "papermill": {
     "duration": 0.02259,
     "end_time": "2022-07-19T19:26:07.261457",
     "exception": false,
     "start_time": "2022-07-19T19:26:07.238867",
     "status": "completed"
    },
    "tags": []
   },
   "outputs": [
    {
     "data": {
      "application/javascript": [
       "parent.postMessage({\"jupyterEvent\": \"custom.exercise_interaction\", \"data\": {\"interactionType\": 3, \"questionType\": 4, \"questionId\": \"4.2_ThinkAvila\", \"learnToolsVersion\": \"0.3.4\", \"valueTowardsCompletion\": 0.0, \"failureMessage\": \"\", \"exceptionClass\": \"\", \"trace\": \"\", \"outcomeType\": 4}}, \"*\")"
      ],
      "text/plain": [
       "<IPython.core.display.Javascript object>"
      ]
     },
     "metadata": {},
     "output_type": "display_data"
    },
    {
     "data": {
      "text/markdown": [
       "<span style=\"color:#33cc99\">Solution:</span> The line chart generally dips to relatively low values around the early part of each year (in December and January), and reaches its highest values in the middle of the year (especially around May and June).  Thus, Avila Adobe usually gets more visitors in March-August (or the spring and summer months).  With this in mind, Avila Adobe could definitely benefit from hiring more seasonal employees to help with the extra work in March-August (the spring and summer)!"
      ],
      "text/plain": [
       "Solution: The line chart generally dips to relatively low values around the early part of each year (in December and January), and reaches its highest values in the middle of the year (especially around May and June).  Thus, Avila Adobe usually gets more visitors in March-August (or the spring and summer months).  With this in mind, Avila Adobe could definitely benefit from hiring more seasonal employees to help with the extra work in March-August (the spring and summer)!"
      ]
     },
     "metadata": {},
     "output_type": "display_data"
    }
   ],
   "source": [
    "# Check your answer (Run this code cell to receive credit!)\n",
    "step_4.b.solution()"
   ]
  },
  {
   "cell_type": "markdown",
   "id": "3e2e8f50",
   "metadata": {
    "papermill": {
     "duration": 0.009202,
     "end_time": "2022-07-19T19:26:07.279990",
     "exception": false,
     "start_time": "2022-07-19T19:26:07.270788",
     "status": "completed"
    },
    "tags": []
   },
   "source": [
    "# Keep going\n",
    "\n",
    "Move on to learn about **[bar charts and heatmaps](https://www.kaggle.com/alexisbcook/bar-charts-and-heatmaps)** with a new dataset!"
   ]
  },
  {
   "cell_type": "markdown",
   "id": "417ff9f6",
   "metadata": {
    "papermill": {
     "duration": 0.008901,
     "end_time": "2022-07-19T19:26:07.298535",
     "exception": false,
     "start_time": "2022-07-19T19:26:07.289634",
     "status": "completed"
    },
    "tags": []
   },
   "source": [
    "---\n",
    "\n",
    "\n",
    "\n",
    "\n",
    "*Have questions or comments? Visit the [course discussion forum](https://www.kaggle.com/learn/data-visualization/discussion) to chat with other learners.*"
   ]
  }
 ],
 "metadata": {
  "kernelspec": {
   "display_name": "Python 3",
   "language": "python",
   "name": "python3"
  },
  "language_info": {
   "codemirror_mode": {
    "name": "ipython",
    "version": 3
   },
   "file_extension": ".py",
   "mimetype": "text/x-python",
   "name": "python",
   "nbconvert_exporter": "python",
   "pygments_lexer": "ipython3",
   "version": "3.7.12"
  },
  "papermill": {
   "default_parameters": {},
   "duration": 12.041686,
   "end_time": "2022-07-19T19:26:08.028798",
   "environment_variables": {},
   "exception": null,
   "input_path": "__notebook__.ipynb",
   "output_path": "__notebook__.ipynb",
   "parameters": {},
   "start_time": "2022-07-19T19:25:55.987112",
   "version": "2.3.4"
  }
 },
 "nbformat": 4,
 "nbformat_minor": 5
}
