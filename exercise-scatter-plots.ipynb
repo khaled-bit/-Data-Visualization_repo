{
 "cells": [
  {
   "cell_type": "markdown",
   "id": "97778fb8",
   "metadata": {
    "papermill": {
     "duration": 0.012174,
     "end_time": "2022-07-19T20:33:27.261257",
     "exception": false,
     "start_time": "2022-07-19T20:33:27.249083",
     "status": "completed"
    },
    "tags": []
   },
   "source": [
    "**This notebook is an exercise in the [Data Visualization](https://www.kaggle.com/learn/data-visualization) course.  You can reference the tutorial at [this link](https://www.kaggle.com/alexisbcook/scatter-plots).**\n",
    "\n",
    "---\n"
   ]
  },
  {
   "cell_type": "markdown",
   "id": "5696ec5f",
   "metadata": {
    "papermill": {
     "duration": 0.009812,
     "end_time": "2022-07-19T20:33:27.281509",
     "exception": false,
     "start_time": "2022-07-19T20:33:27.271697",
     "status": "completed"
    },
    "tags": []
   },
   "source": [
    "In this exercise, you will use your new knowledge to propose a solution to a real-world scenario.  To succeed, you will need to import data into Python, answer questions using the data, and generate **scatter plots** to understand patterns in the data.\n",
    "\n",
    "## Scenario\n",
    "\n",
    "You work for a major candy producer, and your goal is to write a report that your company can use to guide the design of its next product.  Soon after starting your research, you stumble across this [very interesting dataset](https://fivethirtyeight.com/features/the-ultimate-halloween-candy-power-ranking/) containing results from a fun survey to crowdsource favorite candies.\n",
    "\n",
    "## Setup\n",
    "\n",
    "Run the next cell to import and configure the Python libraries that you need to complete the exercise."
   ]
  },
  {
   "cell_type": "code",
   "execution_count": 1,
   "id": "6be6ba7f",
   "metadata": {
    "execution": {
     "iopub.execute_input": "2022-07-19T20:33:27.304321Z",
     "iopub.status.busy": "2022-07-19T20:33:27.303892Z",
     "iopub.status.idle": "2022-07-19T20:33:28.469597Z",
     "shell.execute_reply": "2022-07-19T20:33:28.468266Z"
    },
    "papermill": {
     "duration": 1.180209,
     "end_time": "2022-07-19T20:33:28.472311",
     "exception": false,
     "start_time": "2022-07-19T20:33:27.292102",
     "status": "completed"
    },
    "tags": []
   },
   "outputs": [
    {
     "name": "stdout",
     "output_type": "stream",
     "text": [
      "Setup Complete\n"
     ]
    }
   ],
   "source": [
    "import pandas as pd\n",
    "pd.plotting.register_matplotlib_converters()\n",
    "import matplotlib.pyplot as plt\n",
    "%matplotlib inline\n",
    "import seaborn as sns\n",
    "print(\"Setup Complete\")"
   ]
  },
  {
   "cell_type": "markdown",
   "id": "67e079b9",
   "metadata": {
    "papermill": {
     "duration": 0.01042,
     "end_time": "2022-07-19T20:33:28.493296",
     "exception": false,
     "start_time": "2022-07-19T20:33:28.482876",
     "status": "completed"
    },
    "tags": []
   },
   "source": [
    "The questions below will give you feedback on your work. Run the following cell to set up our feedback system."
   ]
  },
  {
   "cell_type": "code",
   "execution_count": 2,
   "id": "c79458df",
   "metadata": {
    "execution": {
     "iopub.execute_input": "2022-07-19T20:33:28.518359Z",
     "iopub.status.busy": "2022-07-19T20:33:28.517685Z",
     "iopub.status.idle": "2022-07-19T20:33:28.588768Z",
     "shell.execute_reply": "2022-07-19T20:33:28.587800Z"
    },
    "papermill": {
     "duration": 0.086848,
     "end_time": "2022-07-19T20:33:28.591384",
     "exception": false,
     "start_time": "2022-07-19T20:33:28.504536",
     "status": "completed"
    },
    "tags": []
   },
   "outputs": [
    {
     "name": "stdout",
     "output_type": "stream",
     "text": [
      "Setup Complete\n"
     ]
    }
   ],
   "source": [
    "# Set up code checking\n",
    "import os\n",
    "if not os.path.exists(\"../input/candy.csv\"):\n",
    "    os.symlink(\"../input/data-for-datavis/candy.csv\", \"../input/candy.csv\") \n",
    "from learntools.core import binder\n",
    "binder.bind(globals())\n",
    "from learntools.data_viz_to_coder.ex4 import *\n",
    "print(\"Setup Complete\")"
   ]
  },
  {
   "cell_type": "markdown",
   "id": "6ac7b4a5",
   "metadata": {
    "papermill": {
     "duration": 0.010324,
     "end_time": "2022-07-19T20:33:28.612461",
     "exception": false,
     "start_time": "2022-07-19T20:33:28.602137",
     "status": "completed"
    },
    "tags": []
   },
   "source": [
    "## Step 1: Load the Data\n",
    "\n",
    "Read the candy data file into `candy_data`.  Use the `\"id\"` column to label the rows."
   ]
  },
  {
   "cell_type": "code",
   "execution_count": 3,
   "id": "76e1e452",
   "metadata": {
    "execution": {
     "iopub.execute_input": "2022-07-19T20:33:28.635275Z",
     "iopub.status.busy": "2022-07-19T20:33:28.634873Z",
     "iopub.status.idle": "2022-07-19T20:33:28.652087Z",
     "shell.execute_reply": "2022-07-19T20:33:28.650798Z"
    },
    "papermill": {
     "duration": 0.031829,
     "end_time": "2022-07-19T20:33:28.654808",
     "exception": false,
     "start_time": "2022-07-19T20:33:28.622979",
     "status": "completed"
    },
    "tags": []
   },
   "outputs": [
    {
     "data": {
      "application/javascript": [
       "parent.postMessage({\"jupyterEvent\": \"custom.exercise_interaction\", \"data\": {\"outcomeType\": 1, \"valueTowardsCompletion\": 0.3333333333333333, \"interactionType\": 1, \"questionType\": 1, \"questionId\": \"1_LoadData\", \"learnToolsVersion\": \"0.3.4\", \"failureMessage\": \"\", \"exceptionClass\": \"\", \"trace\": \"\"}}, \"*\")"
      ],
      "text/plain": [
       "<IPython.core.display.Javascript object>"
      ]
     },
     "metadata": {},
     "output_type": "display_data"
    },
    {
     "data": {
      "text/markdown": [
       "<span style=\"color:#33cc33\">Correct</span>"
      ],
      "text/plain": [
       "Correct"
      ]
     },
     "metadata": {},
     "output_type": "display_data"
    }
   ],
   "source": [
    "# Path of the file to read\n",
    "candy_filepath = \"../input/candy.csv\"\n",
    "\n",
    "# Fill in the line below to read the file into a variable candy_data\n",
    "candy_data = pd.read_csv(candy_filepath,index_col=\"id\")\n",
    "\n",
    "# Run the line below with no changes to check that you've loaded the data correctly\n",
    "step_1.check()"
   ]
  },
  {
   "cell_type": "code",
   "execution_count": 4,
   "id": "61c04cd7",
   "metadata": {
    "execution": {
     "iopub.execute_input": "2022-07-19T20:33:28.679201Z",
     "iopub.status.busy": "2022-07-19T20:33:28.678502Z",
     "iopub.status.idle": "2022-07-19T20:33:28.683531Z",
     "shell.execute_reply": "2022-07-19T20:33:28.682659Z"
    },
    "papermill": {
     "duration": 0.020401,
     "end_time": "2022-07-19T20:33:28.686138",
     "exception": false,
     "start_time": "2022-07-19T20:33:28.665737",
     "status": "completed"
    },
    "tags": []
   },
   "outputs": [],
   "source": [
    "# Lines below will give you a hint or solution code\n",
    "#step_1.hint()\n",
    "#step_1.solution()"
   ]
  },
  {
   "cell_type": "markdown",
   "id": "2685cfb7",
   "metadata": {
    "papermill": {
     "duration": 0.010694,
     "end_time": "2022-07-19T20:33:28.708164",
     "exception": false,
     "start_time": "2022-07-19T20:33:28.697470",
     "status": "completed"
    },
    "tags": []
   },
   "source": [
    "## Step 2: Review the data\n",
    "\n",
    "Use a Python command to print the first five rows of the data."
   ]
  },
  {
   "cell_type": "code",
   "execution_count": 5,
   "id": "c7dcac04",
   "metadata": {
    "execution": {
     "iopub.execute_input": "2022-07-19T20:33:28.733861Z",
     "iopub.status.busy": "2022-07-19T20:33:28.733177Z",
     "iopub.status.idle": "2022-07-19T20:33:28.758526Z",
     "shell.execute_reply": "2022-07-19T20:33:28.757229Z"
    },
    "papermill": {
     "duration": 0.041243,
     "end_time": "2022-07-19T20:33:28.761244",
     "exception": false,
     "start_time": "2022-07-19T20:33:28.720001",
     "status": "completed"
    },
    "tags": []
   },
   "outputs": [
    {
     "data": {
      "text/html": [
       "<div>\n",
       "<style scoped>\n",
       "    .dataframe tbody tr th:only-of-type {\n",
       "        vertical-align: middle;\n",
       "    }\n",
       "\n",
       "    .dataframe tbody tr th {\n",
       "        vertical-align: top;\n",
       "    }\n",
       "\n",
       "    .dataframe thead th {\n",
       "        text-align: right;\n",
       "    }\n",
       "</style>\n",
       "<table border=\"1\" class=\"dataframe\">\n",
       "  <thead>\n",
       "    <tr style=\"text-align: right;\">\n",
       "      <th></th>\n",
       "      <th>competitorname</th>\n",
       "      <th>chocolate</th>\n",
       "      <th>fruity</th>\n",
       "      <th>caramel</th>\n",
       "      <th>peanutyalmondy</th>\n",
       "      <th>nougat</th>\n",
       "      <th>crispedricewafer</th>\n",
       "      <th>hard</th>\n",
       "      <th>bar</th>\n",
       "      <th>pluribus</th>\n",
       "      <th>sugarpercent</th>\n",
       "      <th>pricepercent</th>\n",
       "      <th>winpercent</th>\n",
       "    </tr>\n",
       "    <tr>\n",
       "      <th>id</th>\n",
       "      <th></th>\n",
       "      <th></th>\n",
       "      <th></th>\n",
       "      <th></th>\n",
       "      <th></th>\n",
       "      <th></th>\n",
       "      <th></th>\n",
       "      <th></th>\n",
       "      <th></th>\n",
       "      <th></th>\n",
       "      <th></th>\n",
       "      <th></th>\n",
       "      <th></th>\n",
       "    </tr>\n",
       "  </thead>\n",
       "  <tbody>\n",
       "    <tr>\n",
       "      <th>0</th>\n",
       "      <td>100 Grand</td>\n",
       "      <td>Yes</td>\n",
       "      <td>No</td>\n",
       "      <td>Yes</td>\n",
       "      <td>No</td>\n",
       "      <td>No</td>\n",
       "      <td>Yes</td>\n",
       "      <td>No</td>\n",
       "      <td>Yes</td>\n",
       "      <td>No</td>\n",
       "      <td>0.732</td>\n",
       "      <td>0.860</td>\n",
       "      <td>66.971725</td>\n",
       "    </tr>\n",
       "    <tr>\n",
       "      <th>1</th>\n",
       "      <td>3 Musketeers</td>\n",
       "      <td>Yes</td>\n",
       "      <td>No</td>\n",
       "      <td>No</td>\n",
       "      <td>No</td>\n",
       "      <td>Yes</td>\n",
       "      <td>No</td>\n",
       "      <td>No</td>\n",
       "      <td>Yes</td>\n",
       "      <td>No</td>\n",
       "      <td>0.604</td>\n",
       "      <td>0.511</td>\n",
       "      <td>67.602936</td>\n",
       "    </tr>\n",
       "    <tr>\n",
       "      <th>2</th>\n",
       "      <td>Air Heads</td>\n",
       "      <td>No</td>\n",
       "      <td>Yes</td>\n",
       "      <td>No</td>\n",
       "      <td>No</td>\n",
       "      <td>No</td>\n",
       "      <td>No</td>\n",
       "      <td>No</td>\n",
       "      <td>No</td>\n",
       "      <td>No</td>\n",
       "      <td>0.906</td>\n",
       "      <td>0.511</td>\n",
       "      <td>52.341465</td>\n",
       "    </tr>\n",
       "    <tr>\n",
       "      <th>3</th>\n",
       "      <td>Almond Joy</td>\n",
       "      <td>Yes</td>\n",
       "      <td>No</td>\n",
       "      <td>No</td>\n",
       "      <td>Yes</td>\n",
       "      <td>No</td>\n",
       "      <td>No</td>\n",
       "      <td>No</td>\n",
       "      <td>Yes</td>\n",
       "      <td>No</td>\n",
       "      <td>0.465</td>\n",
       "      <td>0.767</td>\n",
       "      <td>50.347546</td>\n",
       "    </tr>\n",
       "    <tr>\n",
       "      <th>4</th>\n",
       "      <td>Baby Ruth</td>\n",
       "      <td>Yes</td>\n",
       "      <td>No</td>\n",
       "      <td>Yes</td>\n",
       "      <td>Yes</td>\n",
       "      <td>Yes</td>\n",
       "      <td>No</td>\n",
       "      <td>No</td>\n",
       "      <td>Yes</td>\n",
       "      <td>No</td>\n",
       "      <td>0.604</td>\n",
       "      <td>0.767</td>\n",
       "      <td>56.914547</td>\n",
       "    </tr>\n",
       "  </tbody>\n",
       "</table>\n",
       "</div>"
      ],
      "text/plain": [
       "   competitorname chocolate fruity caramel peanutyalmondy nougat  \\\n",
       "id                                                                 \n",
       "0       100 Grand       Yes     No     Yes             No     No   \n",
       "1    3 Musketeers       Yes     No      No             No    Yes   \n",
       "2       Air Heads        No    Yes      No             No     No   \n",
       "3      Almond Joy       Yes     No      No            Yes     No   \n",
       "4       Baby Ruth       Yes     No     Yes            Yes    Yes   \n",
       "\n",
       "   crispedricewafer hard  bar pluribus  sugarpercent  pricepercent  winpercent  \n",
       "id                                                                              \n",
       "0               Yes   No  Yes       No         0.732         0.860   66.971725  \n",
       "1                No   No  Yes       No         0.604         0.511   67.602936  \n",
       "2                No   No   No       No         0.906         0.511   52.341465  \n",
       "3                No   No  Yes       No         0.465         0.767   50.347546  \n",
       "4                No   No  Yes       No         0.604         0.767   56.914547  "
      ]
     },
     "execution_count": 5,
     "metadata": {},
     "output_type": "execute_result"
    }
   ],
   "source": [
    "# Print the first five rows of the data\n",
    "____ # Your code here\n",
    "candy_data.head()"
   ]
  },
  {
   "cell_type": "markdown",
   "id": "22dd28bd",
   "metadata": {
    "papermill": {
     "duration": 0.012339,
     "end_time": "2022-07-19T20:33:28.785930",
     "exception": false,
     "start_time": "2022-07-19T20:33:28.773591",
     "status": "completed"
    },
    "tags": []
   },
   "source": [
    "The dataset contains 83 rows, where each corresponds to a different candy bar.  There are 13 columns:\n",
    "- `'competitorname'` contains the name of the candy bar. \n",
    "- the next **9** columns (from `'chocolate'` to `'pluribus'`) describe the candy.  For instance, rows with chocolate candies have `\"Yes\"` in the `'chocolate'` column (and candies without chocolate have `\"No\"` in the same column).\n",
    "- `'sugarpercent'` provides some indication of the amount of sugar, where higher values signify higher sugar content.\n",
    "- `'pricepercent'` shows the price per unit, relative to the other candies in the dataset.\n",
    "- `'winpercent'` is calculated from the survey results; higher values indicate that the candy was more popular with survey respondents.\n",
    "\n",
    "Use the first five rows of the data to answer the questions below."
   ]
  },
  {
   "cell_type": "code",
   "execution_count": 6,
   "id": "559357dc",
   "metadata": {
    "execution": {
     "iopub.execute_input": "2022-07-19T20:33:28.811912Z",
     "iopub.status.busy": "2022-07-19T20:33:28.811081Z",
     "iopub.status.idle": "2022-07-19T20:33:28.822484Z",
     "shell.execute_reply": "2022-07-19T20:33:28.821113Z"
    },
    "papermill": {
     "duration": 0.027281,
     "end_time": "2022-07-19T20:33:28.825377",
     "exception": false,
     "start_time": "2022-07-19T20:33:28.798096",
     "status": "completed"
    },
    "tags": []
   },
   "outputs": [
    {
     "data": {
      "application/javascript": [
       "parent.postMessage({\"jupyterEvent\": \"custom.exercise_interaction\", \"data\": {\"outcomeType\": 1, \"valueTowardsCompletion\": 0.3333333333333333, \"interactionType\": 1, \"questionType\": 1, \"questionId\": \"2_ReviewData\", \"learnToolsVersion\": \"0.3.4\", \"failureMessage\": \"\", \"exceptionClass\": \"\", \"trace\": \"\"}}, \"*\")"
      ],
      "text/plain": [
       "<IPython.core.display.Javascript object>"
      ]
     },
     "metadata": {},
     "output_type": "display_data"
    },
    {
     "data": {
      "text/markdown": [
       "<span style=\"color:#33cc33\">Correct</span>"
      ],
      "text/plain": [
       "Correct"
      ]
     },
     "metadata": {},
     "output_type": "display_data"
    }
   ],
   "source": [
    "# Fill in the line below: Which candy was more popular with survey respondents:\n",
    "# '3 Musketeers' or 'Almond Joy'?  (Please enclose your answer in single quotes.)\n",
    "more_popular ='3 Musketeers'\n",
    "\n",
    "# Fill in the line below: Which candy has higher sugar content: 'Air Heads'\n",
    "# or 'Baby Ruth'? (Please enclose your answer in single quotes.)\n",
    "more_sugar =  'Air Heads' \n",
    "\n",
    "# Check your answers\n",
    "step_2.check()"
   ]
  },
  {
   "cell_type": "code",
   "execution_count": 7,
   "id": "6f2380eb",
   "metadata": {
    "execution": {
     "iopub.execute_input": "2022-07-19T20:33:28.851995Z",
     "iopub.status.busy": "2022-07-19T20:33:28.851113Z",
     "iopub.status.idle": "2022-07-19T20:33:28.855337Z",
     "shell.execute_reply": "2022-07-19T20:33:28.854482Z"
    },
    "papermill": {
     "duration": 0.019566,
     "end_time": "2022-07-19T20:33:28.857428",
     "exception": false,
     "start_time": "2022-07-19T20:33:28.837862",
     "status": "completed"
    },
    "tags": []
   },
   "outputs": [],
   "source": [
    "# Lines below will give you a hint or solution code\n",
    "#step_2.hint()\n",
    "#step_2.solution()"
   ]
  },
  {
   "cell_type": "markdown",
   "id": "7cfe1ee5",
   "metadata": {
    "papermill": {
     "duration": 0.012853,
     "end_time": "2022-07-19T20:33:28.882077",
     "exception": false,
     "start_time": "2022-07-19T20:33:28.869224",
     "status": "completed"
    },
    "tags": []
   },
   "source": [
    "## Step 3: The role of sugar\n",
    "\n",
    "Do people tend to prefer candies with higher sugar content?  \n",
    "\n",
    "#### Part A\n",
    "\n",
    "Create a scatter plot that shows the relationship between `'sugarpercent'` (on the horizontal x-axis) and `'winpercent'` (on the vertical y-axis).  _Don't add a regression line just yet -- you'll do that in the next step!_"
   ]
  },
  {
   "cell_type": "code",
   "execution_count": 8,
   "id": "8649f7a9",
   "metadata": {
    "execution": {
     "iopub.execute_input": "2022-07-19T20:33:28.908897Z",
     "iopub.status.busy": "2022-07-19T20:33:28.908460Z",
     "iopub.status.idle": "2022-07-19T20:33:29.164929Z",
     "shell.execute_reply": "2022-07-19T20:33:29.163735Z"
    },
    "papermill": {
     "duration": 0.271703,
     "end_time": "2022-07-19T20:33:29.167374",
     "exception": false,
     "start_time": "2022-07-19T20:33:28.895671",
     "status": "completed"
    },
    "tags": []
   },
   "outputs": [
    {
     "data": {
      "application/javascript": [
       "parent.postMessage({\"jupyterEvent\": \"custom.exercise_interaction\", \"data\": {\"outcomeType\": 1, \"valueTowardsCompletion\": 0.3333333333333333, \"interactionType\": 1, \"questionType\": 2, \"questionId\": \"3.1_PlotBlueScatter\", \"learnToolsVersion\": \"0.3.4\", \"failureMessage\": \"\", \"exceptionClass\": \"\", \"trace\": \"\"}}, \"*\")"
      ],
      "text/plain": [
       "<IPython.core.display.Javascript object>"
      ]
     },
     "metadata": {},
     "output_type": "display_data"
    },
    {
     "data": {
      "text/markdown": [
       "<span style=\"color:#33cc33\">Correct</span>"
      ],
      "text/plain": [
       "Correct"
      ]
     },
     "metadata": {},
     "output_type": "display_data"
    },
    {
     "data": {
      "image/png": "[encoded data removed]",
      "text/plain": [
       "<Figure size 432x288 with 1 Axes>"
      ]
     },
     "metadata": {
      "needs_background": "light"
     },
     "output_type": "display_data"
    }
   ],
   "source": [
    "# Scatter plot showing the relationship between 'sugarpercent' and 'winpercent'\n",
    "____ # Your code here\n",
    "sns.scatterplot(x=candy_data['sugarpercent'] , y=candy_data['winpercent'])\n",
    "# Check your answer\n",
    "step_3.a.check()"
   ]
  },
  {
   "cell_type": "code",
   "execution_count": 9,
   "id": "fdf51a7e",
   "metadata": {
    "execution": {
     "iopub.execute_input": "2022-07-19T20:33:29.194228Z",
     "iopub.status.busy": "2022-07-19T20:33:29.193817Z",
     "iopub.status.idle": "2022-07-19T20:33:29.198793Z",
     "shell.execute_reply": "2022-07-19T20:33:29.197594Z"
    },
    "papermill": {
     "duration": 0.021146,
     "end_time": "2022-07-19T20:33:29.201239",
     "exception": false,
     "start_time": "2022-07-19T20:33:29.180093",
     "status": "completed"
    },
    "tags": []
   },
   "outputs": [],
   "source": [
    "# Lines below will give you a hint or solution code\n",
    "#step_3.a.hint()\n",
    "#step_3.a.solution_plot()"
   ]
  },
  {
   "cell_type": "markdown",
   "id": "59b06c98",
   "metadata": {
    "papermill": {
     "duration": 0.011744,
     "end_time": "2022-07-19T20:33:29.225511",
     "exception": false,
     "start_time": "2022-07-19T20:33:29.213767",
     "status": "completed"
    },
    "tags": []
   },
   "source": [
    "#### Part B\n",
    "\n",
    "Does the scatter plot show a **strong** correlation between the two variables?  If so, are candies with more sugar relatively more or less popular with the survey respondents?"
   ]
  },
  {
   "cell_type": "markdown",
   "id": "96587e6d",
   "metadata": {
    "papermill": {
     "duration": 0.01195,
     "end_time": "2022-07-19T20:33:29.249714",
     "exception": false,
     "start_time": "2022-07-19T20:33:29.237764",
     "status": "completed"
    },
    "tags": []
   },
   "source": [
    "* weak correlation \n"
   ]
  },
  {
   "cell_type": "markdown",
   "id": "de36b943",
   "metadata": {
    "papermill": {
     "duration": 0.012281,
     "end_time": "2022-07-19T20:33:29.274408",
     "exception": false,
     "start_time": "2022-07-19T20:33:29.262127",
     "status": "completed"
    },
    "tags": []
   },
   "source": []
  },
  {
   "cell_type": "code",
   "execution_count": 10,
   "id": "ac23763c",
   "metadata": {
    "execution": {
     "iopub.execute_input": "2022-07-19T20:33:29.301193Z",
     "iopub.status.busy": "2022-07-19T20:33:29.300701Z",
     "iopub.status.idle": "2022-07-19T20:33:29.305932Z",
     "shell.execute_reply": "2022-07-19T20:33:29.304749Z"
    },
    "papermill": {
     "duration": 0.021223,
     "end_time": "2022-07-19T20:33:29.308214",
     "exception": false,
     "start_time": "2022-07-19T20:33:29.286991",
     "status": "completed"
    },
    "tags": []
   },
   "outputs": [],
   "source": [
    "#step_3.b.hint()"
   ]
  },
  {
   "cell_type": "code",
   "execution_count": 11,
   "id": "839921e3",
   "metadata": {
    "execution": {
     "iopub.execute_input": "2022-07-19T20:33:29.335340Z",
     "iopub.status.busy": "2022-07-19T20:33:29.334672Z",
     "iopub.status.idle": "2022-07-19T20:33:29.343169Z",
     "shell.execute_reply": "2022-07-19T20:33:29.342077Z"
    },
    "papermill": {
     "duration": 0.025,
     "end_time": "2022-07-19T20:33:29.345616",
     "exception": false,
     "start_time": "2022-07-19T20:33:29.320616",
     "status": "completed"
    },
    "tags": []
   },
   "outputs": [
    {
     "data": {
      "application/javascript": [
       "parent.postMessage({\"jupyterEvent\": \"custom.exercise_interaction\", \"data\": {\"interactionType\": 3, \"questionType\": 4, \"questionId\": \"3.2_ThinkBlueScatter\", \"learnToolsVersion\": \"0.3.4\", \"valueTowardsCompletion\": 0.0, \"failureMessage\": \"\", \"exceptionClass\": \"\", \"trace\": \"\", \"outcomeType\": 4}}, \"*\")"
      ],
      "text/plain": [
       "<IPython.core.display.Javascript object>"
      ]
     },
     "metadata": {},
     "output_type": "display_data"
    },
    {
     "data": {
      "text/markdown": [
       "<span style=\"color:#33cc99\">Solution:</span> The scatter plot does not show a strong correlation between the two variables. Since there is no clear relationship between the two variables, this tells us that sugar content does not play a strong role in candy popularity."
      ],
      "text/plain": [
       "Solution: The scatter plot does not show a strong correlation between the two variables. Since there is no clear relationship between the two variables, this tells us that sugar content does not play a strong role in candy popularity."
      ]
     },
     "metadata": {},
     "output_type": "display_data"
    }
   ],
   "source": [
    "# Check your answer (Run this code cell to receive credit!)\n",
    "step_3.b.solution()"
   ]
  },
  {
   "cell_type": "markdown",
   "id": "13b637c7",
   "metadata": {
    "papermill": {
     "duration": 0.012203,
     "end_time": "2022-07-19T20:33:29.370270",
     "exception": false,
     "start_time": "2022-07-19T20:33:29.358067",
     "status": "completed"
    },
    "tags": []
   },
   "source": [
    "## Step 4: Take a closer look\n",
    "\n",
    "#### Part A\n",
    "\n",
    "Create the same scatter plot you created in **Step 3**, but now with a regression line!"
   ]
  },
  {
   "cell_type": "code",
   "execution_count": 12,
   "id": "f1426182",
   "metadata": {
    "execution": {
     "iopub.execute_input": "2022-07-19T20:33:29.397760Z",
     "iopub.status.busy": "2022-07-19T20:33:29.396947Z",
     "iopub.status.idle": "2022-07-19T20:33:29.704347Z",
     "shell.execute_reply": "2022-07-19T20:33:29.703149Z"
    },
    "papermill": {
     "duration": 0.323937,
     "end_time": "2022-07-19T20:33:29.706765",
     "exception": false,
     "start_time": "2022-07-19T20:33:29.382828",
     "status": "completed"
    },
    "tags": []
   },
   "outputs": [
    {
     "data": {
      "application/javascript": [
       "parent.postMessage({\"jupyterEvent\": \"custom.exercise_interaction\", \"data\": {\"outcomeType\": 1, \"valueTowardsCompletion\": 0.3333333333333333, \"interactionType\": 1, \"questionType\": 2, \"questionId\": \"4.1_PlotBlueReg\", \"learnToolsVersion\": \"0.3.4\", \"failureMessage\": \"\", \"exceptionClass\": \"\", \"trace\": \"\"}}, \"*\")"
      ],
      "text/plain": [
       "<IPython.core.display.Javascript object>"
      ]
     },
     "metadata": {},
     "output_type": "display_data"
    },
    {
     "data": {
      "text/markdown": [
       "<span style=\"color:#33cc33\">Correct</span>"
      ],
      "text/plain": [
       "Correct"
      ]
     },
     "metadata": {},
     "output_type": "display_data"
    },
    {
     "data": {
      "image/png": "[encoded data removed]",
      "text/plain": [
       "<Figure size 432x288 with 1 Axes>"
      ]
     },
     "metadata": {
      "needs_background": "light"
     },
     "output_type": "display_data"
    }
   ],
   "source": [
    "# Scatter plot w/ regression line showing the relationship between 'sugarpercent' and 'winpercent'\n",
    "____ # Your code here\n",
    "sns.regplot(x=candy_data['sugarpercent'], y=candy_data['winpercent'])\n",
    "# Check your answer\n",
    "step_4.a.check()"
   ]
  },
  {
   "cell_type": "code",
   "execution_count": 13,
   "id": "66069867",
   "metadata": {
    "execution": {
     "iopub.execute_input": "2022-07-19T20:33:29.735772Z",
     "iopub.status.busy": "2022-07-19T20:33:29.735117Z",
     "iopub.status.idle": "2022-07-19T20:33:29.739536Z",
     "shell.execute_reply": "2022-07-19T20:33:29.738794Z"
    },
    "papermill": {
     "duration": 0.021322,
     "end_time": "2022-07-19T20:33:29.741632",
     "exception": false,
     "start_time": "2022-07-19T20:33:29.720310",
     "status": "completed"
    },
    "tags": []
   },
   "outputs": [],
   "source": [
    "# Lines below will give you a hint or solution code\n",
    "#step_4.a.hint()\n",
    "#step_4.a.solution_plot()"
   ]
  },
  {
   "cell_type": "markdown",
   "id": "505c585c",
   "metadata": {
    "papermill": {
     "duration": 0.012571,
     "end_time": "2022-07-19T20:33:29.767322",
     "exception": false,
     "start_time": "2022-07-19T20:33:29.754751",
     "status": "completed"
    },
    "tags": []
   },
   "source": [
    "#### Part B\n",
    "\n",
    "According to the plot above, is there a **slight** correlation between `'winpercent'` and `'sugarpercent'`?  What does this tell you about the candy that people tend to prefer?"
   ]
  },
  {
   "cell_type": "markdown",
   "id": "1cad5ea3",
   "metadata": {
    "papermill": {
     "duration": 0.012505,
     "end_time": "2022-07-19T20:33:29.792999",
     "exception": false,
     "start_time": "2022-07-19T20:33:29.780494",
     "status": "completed"
    },
    "tags": []
   },
   "source": [
    "people love candies with more sugar"
   ]
  },
  {
   "cell_type": "markdown",
   "id": "9609c48c",
   "metadata": {
    "papermill": {
     "duration": 0.012827,
     "end_time": "2022-07-19T20:33:29.818816",
     "exception": false,
     "start_time": "2022-07-19T20:33:29.805989",
     "status": "completed"
    },
    "tags": []
   },
   "source": []
  },
  {
   "cell_type": "code",
   "execution_count": 14,
   "id": "703bd5d5",
   "metadata": {
    "execution": {
     "iopub.execute_input": "2022-07-19T20:33:29.847407Z",
     "iopub.status.busy": "2022-07-19T20:33:29.846607Z",
     "iopub.status.idle": "2022-07-19T20:33:29.851489Z",
     "shell.execute_reply": "2022-07-19T20:33:29.850635Z"
    },
    "papermill": {
     "duration": 0.021946,
     "end_time": "2022-07-19T20:33:29.853855",
     "exception": false,
     "start_time": "2022-07-19T20:33:29.831909",
     "status": "completed"
    },
    "tags": []
   },
   "outputs": [],
   "source": [
    "#step_4.b.hint()"
   ]
  },
  {
   "cell_type": "code",
   "execution_count": 15,
   "id": "9d11b7a3",
   "metadata": {
    "execution": {
     "iopub.execute_input": "2022-07-19T20:33:29.882545Z",
     "iopub.status.busy": "2022-07-19T20:33:29.881747Z",
     "iopub.status.idle": "2022-07-19T20:33:29.890836Z",
     "shell.execute_reply": "2022-07-19T20:33:29.889983Z"
    },
    "papermill": {
     "duration": 0.02604,
     "end_time": "2022-07-19T20:33:29.893258",
     "exception": false,
     "start_time": "2022-07-19T20:33:29.867218",
     "status": "completed"
    },
    "tags": []
   },
   "outputs": [
    {
     "data": {
      "application/javascript": [
       "parent.postMessage({\"jupyterEvent\": \"custom.exercise_interaction\", \"data\": {\"interactionType\": 3, \"questionType\": 4, \"questionId\": \"4.2_ThinkBlueReg\", \"learnToolsVersion\": \"0.3.4\", \"valueTowardsCompletion\": 0.0, \"failureMessage\": \"\", \"exceptionClass\": \"\", \"trace\": \"\", \"outcomeType\": 4}}, \"*\")"
      ],
      "text/plain": [
       "<IPython.core.display.Javascript object>"
      ]
     },
     "metadata": {},
     "output_type": "display_data"
    },
    {
     "data": {
      "text/markdown": [
       "<span style=\"color:#33cc99\">Solution:</span> Since the regression line has a slightly positive slope, this tells us that there is a slightly positive correlation between `'winpercent'` and `'sugarpercent'`. Thus, people have a slight preference for candies containing relatively more sugar."
      ],
      "text/plain": [
       "Solution: Since the regression line has a slightly positive slope, this tells us that there is a slightly positive correlation between `'winpercent'` and `'sugarpercent'`. Thus, people have a slight preference for candies containing relatively more sugar."
      ]
     },
     "metadata": {},
     "output_type": "display_data"
    }
   ],
   "source": [
    "# Check your answer (Run this code cell to receive credit!)\n",
    "step_4.b.solution()"
   ]
  },
  {
   "cell_type": "markdown",
   "id": "b0f464a7",
   "metadata": {
    "papermill": {
     "duration": 0.013441,
     "end_time": "2022-07-19T20:33:29.920550",
     "exception": false,
     "start_time": "2022-07-19T20:33:29.907109",
     "status": "completed"
    },
    "tags": []
   },
   "source": [
    "## Step 5: Chocolate!\n",
    "\n",
    "In the code cell below, create a scatter plot to show the relationship between `'pricepercent'` (on the horizontal x-axis) and `'winpercent'` (on the vertical y-axis). Use the `'chocolate'` column to color-code the points.  _Don't add any regression lines just yet -- you'll do that in the next step!_"
   ]
  },
  {
   "cell_type": "code",
   "execution_count": 16,
   "id": "9a22970a",
   "metadata": {
    "execution": {
     "iopub.execute_input": "2022-07-19T20:33:29.949647Z",
     "iopub.status.busy": "2022-07-19T20:33:29.948866Z",
     "iopub.status.idle": "2022-07-19T20:33:30.173126Z",
     "shell.execute_reply": "2022-07-19T20:33:30.172288Z"
    },
    "papermill": {
     "duration": 0.241522,
     "end_time": "2022-07-19T20:33:30.175466",
     "exception": false,
     "start_time": "2022-07-19T20:33:29.933944",
     "status": "completed"
    },
    "tags": []
   },
   "outputs": [
    {
     "data": {
      "application/javascript": [
       "parent.postMessage({\"jupyterEvent\": \"custom.exercise_interaction\", \"data\": {\"outcomeType\": 1, \"valueTowardsCompletion\": 0.3333333333333333, \"interactionType\": 1, \"questionType\": 2, \"questionId\": \"5_ColorScatter\", \"learnToolsVersion\": \"0.3.4\", \"failureMessage\": \"\", \"exceptionClass\": \"\", \"trace\": \"\"}}, \"*\")"
      ],
      "text/plain": [
       "<IPython.core.display.Javascript object>"
      ]
     },
     "metadata": {},
     "output_type": "display_data"
    },
    {
     "data": {
      "text/markdown": [
       "<span style=\"color:#33cc33\">Correct</span>"
      ],
      "text/plain": [
       "Correct"
      ]
     },
     "metadata": {},
     "output_type": "display_data"
    },
    {
     "data": {
      "image/png": "[encoded data removed]",
      "text/plain": [
       "<Figure size 432x288 with 1 Axes>"
      ]
     },
     "metadata": {
      "needs_background": "light"
     },
     "output_type": "display_data"
    }
   ],
   "source": [
    "# Scatter plot showing the relationship between 'pricepercent', 'winpercent', and 'chocolate'\n",
    "____ # Your code here\n",
    "sns.scatterplot(x='pricepercent', y='winpercent' , hue='chocolate' , data=candy_data)\n",
    "# Check your answer\n",
    "step_5.check()"
   ]
  },
  {
   "cell_type": "code",
   "execution_count": 17,
   "id": "31acbfe6",
   "metadata": {
    "execution": {
     "iopub.execute_input": "2022-07-19T20:33:30.205796Z",
     "iopub.status.busy": "2022-07-19T20:33:30.205147Z",
     "iopub.status.idle": "2022-07-19T20:33:30.210002Z",
     "shell.execute_reply": "2022-07-19T20:33:30.208965Z"
    },
    "papermill": {
     "duration": 0.022692,
     "end_time": "2022-07-19T20:33:30.212171",
     "exception": false,
     "start_time": "2022-07-19T20:33:30.189479",
     "status": "completed"
    },
    "tags": []
   },
   "outputs": [],
   "source": [
    "# Lines below will give you a hint or solution code\n",
    "#step_5.hint()\n",
    "#step_5.solution_plot()"
   ]
  },
  {
   "cell_type": "markdown",
   "id": "a1f6b823",
   "metadata": {
    "papermill": {
     "duration": 0.01381,
     "end_time": "2022-07-19T20:33:30.240059",
     "exception": false,
     "start_time": "2022-07-19T20:33:30.226249",
     "status": "completed"
    },
    "tags": []
   },
   "source": [
    "Can you see any interesting patterns in the scatter plot?  We'll investigate this plot further  by adding regression lines in the next step!\n",
    "\n",
    "## Step 6: Investigate chocolate\n",
    "\n",
    "#### Part A\n",
    "\n",
    "Create the same scatter plot you created in **Step 5**, but now with two regression lines, corresponding to (1) chocolate candies and (2) candies without chocolate."
   ]
  },
  {
   "cell_type": "code",
   "execution_count": 18,
   "id": "5f40d8f0",
   "metadata": {
    "execution": {
     "iopub.execute_input": "2022-07-19T20:33:30.270411Z",
     "iopub.status.busy": "2022-07-19T20:33:30.269716Z",
     "iopub.status.idle": "2022-07-19T20:33:30.827152Z",
     "shell.execute_reply": "2022-07-19T20:33:30.825932Z"
    },
    "papermill": {
     "duration": 0.575827,
     "end_time": "2022-07-19T20:33:30.830043",
     "exception": false,
     "start_time": "2022-07-19T20:33:30.254216",
     "status": "completed"
    },
    "tags": []
   },
   "outputs": [
    {
     "data": {
      "application/javascript": [
       "parent.postMessage({\"jupyterEvent\": \"custom.exercise_interaction\", \"data\": {\"outcomeType\": 1, \"valueTowardsCompletion\": 0.3333333333333333, \"interactionType\": 1, \"questionType\": 2, \"questionId\": \"6.1_PlotColorReg\", \"learnToolsVersion\": \"0.3.4\", \"failureMessage\": \"\", \"exceptionClass\": \"\", \"trace\": \"\"}}, \"*\")"
      ],
      "text/plain": [
       "<IPython.core.display.Javascript object>"
      ]
     },
     "metadata": {},
     "output_type": "display_data"
    },
    {
     "data": {
      "text/markdown": [
       "<span style=\"color:#33cc33\">Correct</span>"
      ],
      "text/plain": [
       "Correct"
      ]
     },
     "metadata": {},
     "output_type": "display_data"
    },
    {
     "data": {
      "image/png": "[encoded data removed]",
      "text/plain": [
       "<Figure size 416.375x360 with 1 Axes>"
      ]
     },
     "metadata": {
      "needs_background": "light"
     },
     "output_type": "display_data"
    }
   ],
   "source": [
    "# Color-coded scatter plot w/ regression lines\n",
    "____ # Your code here\n",
    "sns.lmplot(x='pricepercent', y='winpercent', hue='chocolate', data=candy_data)\n",
    "# Check your answer\n",
    "step_6.a.check()"
   ]
  },
  {
   "cell_type": "code",
   "execution_count": 19,
   "id": "362b23a1",
   "metadata": {
    "execution": {
     "iopub.execute_input": "2022-07-19T20:33:30.863013Z",
     "iopub.status.busy": "2022-07-19T20:33:30.862327Z",
     "iopub.status.idle": "2022-07-19T20:33:30.866167Z",
     "shell.execute_reply": "2022-07-19T20:33:30.865306Z"
    },
    "papermill": {
     "duration": 0.022713,
     "end_time": "2022-07-19T20:33:30.868262",
     "exception": false,
     "start_time": "2022-07-19T20:33:30.845549",
     "status": "completed"
    },
    "tags": []
   },
   "outputs": [],
   "source": [
    "# Lines below will give you a hint or solution code\n",
    "#step_6.a.hint()\n",
    "#step_6.a.solution_plot()"
   ]
  },
  {
   "cell_type": "markdown",
   "id": "cc30167b",
   "metadata": {
    "papermill": {
     "duration": 0.014369,
     "end_time": "2022-07-19T20:33:30.897480",
     "exception": false,
     "start_time": "2022-07-19T20:33:30.883111",
     "status": "completed"
    },
    "tags": []
   },
   "source": [
    "#### Part B\n",
    "\n",
    "Using the regression lines, what conclusions can you draw about the effects of chocolate and price on candy popularity?"
   ]
  },
  {
   "cell_type": "markdown",
   "id": "c2646769",
   "metadata": {
    "papermill": {
     "duration": 0.01448,
     "end_time": "2022-07-19T20:33:30.927441",
     "exception": false,
     "start_time": "2022-07-19T20:33:30.912961",
     "status": "completed"
    },
    "tags": []
   },
   "source": [
    "when candies contain chocolate, they tend to be more popular the more it costs"
   ]
  },
  {
   "cell_type": "markdown",
   "id": "8cfcfb1b",
   "metadata": {
    "papermill": {
     "duration": 0.015109,
     "end_time": "2022-07-19T20:33:30.957584",
     "exception": false,
     "start_time": "2022-07-19T20:33:30.942475",
     "status": "completed"
    },
    "tags": []
   },
   "source": []
  },
  {
   "cell_type": "code",
   "execution_count": 20,
   "id": "2458291f",
   "metadata": {
    "execution": {
     "iopub.execute_input": "2022-07-19T20:33:30.989704Z",
     "iopub.status.busy": "2022-07-19T20:33:30.989095Z",
     "iopub.status.idle": "2022-07-19T20:33:30.992752Z",
     "shell.execute_reply": "2022-07-19T20:33:30.991936Z"
    },
    "papermill": {
     "duration": 0.022248,
     "end_time": "2022-07-19T20:33:30.994845",
     "exception": false,
     "start_time": "2022-07-19T20:33:30.972597",
     "status": "completed"
    },
    "tags": []
   },
   "outputs": [],
   "source": [
    "#step_6.b.hint()"
   ]
  },
  {
   "cell_type": "code",
   "execution_count": 21,
   "id": "4e8c46d3",
   "metadata": {
    "execution": {
     "iopub.execute_input": "2022-07-19T20:33:31.026833Z",
     "iopub.status.busy": "2022-07-19T20:33:31.026163Z",
     "iopub.status.idle": "2022-07-19T20:33:31.033228Z",
     "shell.execute_reply": "2022-07-19T20:33:31.032384Z"
    },
    "papermill": {
     "duration": 0.025599,
     "end_time": "2022-07-19T20:33:31.035422",
     "exception": false,
     "start_time": "2022-07-19T20:33:31.009823",
     "status": "completed"
    },
    "tags": []
   },
   "outputs": [
    {
     "data": {
      "application/javascript": [
       "parent.postMessage({\"jupyterEvent\": \"custom.exercise_interaction\", \"data\": {\"interactionType\": 3, \"questionType\": 4, \"questionId\": \"6.2_ThinkColorReg\", \"learnToolsVersion\": \"0.3.4\", \"valueTowardsCompletion\": 0.0, \"failureMessage\": \"\", \"exceptionClass\": \"\", \"trace\": \"\", \"outcomeType\": 4}}, \"*\")"
      ],
      "text/plain": [
       "<IPython.core.display.Javascript object>"
      ]
     },
     "metadata": {},
     "output_type": "display_data"
    },
    {
     "data": {
      "text/markdown": [
       "<span style=\"color:#33cc99\">Solution:</span> We'll begin with the regression line for chocolate candies. Since this line has a slightly positive slope, we can say that more expensive chocolate candies tend to be more popular (than relatively cheaper chocolate candies).  Likewise, since the regression line for candies without chocolate has a negative slope, we can say that if candies don't contain chocolate, they tend to be more popular when they are cheaper.  One important note, however, is that the dataset is quite small -- so we shouldn't invest too much trust in these patterns!  To inspire more confidence in the results, we should add more candies to the dataset."
      ],
      "text/plain": [
       "Solution: We'll begin with the regression line for chocolate candies. Since this line has a slightly positive slope, we can say that more expensive chocolate candies tend to be more popular (than relatively cheaper chocolate candies).  Likewise, since the regression line for candies without chocolate has a negative slope, we can say that if candies don't contain chocolate, they tend to be more popular when they are cheaper.  One important note, however, is that the dataset is quite small -- so we shouldn't invest too much trust in these patterns!  To inspire more confidence in the results, we should add more candies to the dataset."
      ]
     },
     "metadata": {},
     "output_type": "display_data"
    }
   ],
   "source": [
    "# Check your answer (Run this code cell to receive credit!)\n",
    "step_6.b.solution()"
   ]
  },
  {
   "cell_type": "markdown",
   "id": "78300663",
   "metadata": {
    "papermill": {
     "duration": 0.015023,
     "end_time": "2022-07-19T20:33:31.066302",
     "exception": false,
     "start_time": "2022-07-19T20:33:31.051279",
     "status": "completed"
    },
    "tags": []
   },
   "source": [
    "## Step 7: Everybody loves chocolate.\n",
    "\n",
    "#### Part A\n",
    "\n",
    "Create a categorical scatter plot to highlight the relationship between `'chocolate'` and `'winpercent'`.  Put `'chocolate'` on the (horizontal) x-axis, and `'winpercent'` on the (vertical) y-axis."
   ]
  },
  {
   "cell_type": "code",
   "execution_count": 22,
   "id": "dbb8e314",
   "metadata": {
    "execution": {
     "iopub.execute_input": "2022-07-19T20:33:31.099180Z",
     "iopub.status.busy": "2022-07-19T20:33:31.098623Z",
     "iopub.status.idle": "2022-07-19T20:33:31.285039Z",
     "shell.execute_reply": "2022-07-19T20:33:31.284205Z"
    },
    "papermill": {
     "duration": 0.205542,
     "end_time": "2022-07-19T20:33:31.287146",
     "exception": false,
     "start_time": "2022-07-19T20:33:31.081604",
     "status": "completed"
    },
    "tags": []
   },
   "outputs": [
    {
     "data": {
      "application/javascript": [
       "parent.postMessage({\"jupyterEvent\": \"custom.exercise_interaction\", \"data\": {\"outcomeType\": 1, \"valueTowardsCompletion\": 0.3333333333333333, \"interactionType\": 1, \"questionType\": 2, \"questionId\": \"7.1_PlotSwarm\", \"learnToolsVersion\": \"0.3.4\", \"failureMessage\": \"\", \"exceptionClass\": \"\", \"trace\": \"\"}}, \"*\")"
      ],
      "text/plain": [
       "<IPython.core.display.Javascript object>"
      ]
     },
     "metadata": {},
     "output_type": "display_data"
    },
    {
     "data": {
      "text/markdown": [
       "<span style=\"color:#33cc33\">Correct</span>"
      ],
      "text/plain": [
       "Correct"
      ]
     },
     "metadata": {},
     "output_type": "display_data"
    },
    {
     "data": {
      "image/png": "[encoded data removed]",
      "text/plain": [
       "<Figure size 432x288 with 1 Axes>"
      ]
     },
     "metadata": {
      "needs_background": "light"
     },
     "output_type": "display_data"
    }
   ],
   "source": [
    "# Scatter plot showing the relationship between 'chocolate' and 'winpercent'\n",
    "____ # Your code here\n",
    "sns.swarmplot(x=\"chocolate\", y=\"winpercent\", data=candy_data) \n",
    "# Check your answer\n",
    "step_7.a.check()"
   ]
  },
  {
   "cell_type": "code",
   "execution_count": 23,
   "id": "0e77d9e2",
   "metadata": {
    "execution": {
     "iopub.execute_input": "2022-07-19T20:33:31.323153Z",
     "iopub.status.busy": "2022-07-19T20:33:31.322742Z",
     "iopub.status.idle": "2022-07-19T20:33:31.327117Z",
     "shell.execute_reply": "2022-07-19T20:33:31.325991Z"
    },
    "papermill": {
     "duration": 0.026448,
     "end_time": "2022-07-19T20:33:31.329496",
     "exception": false,
     "start_time": "2022-07-19T20:33:31.303048",
     "status": "completed"
    },
    "tags": []
   },
   "outputs": [],
   "source": [
    "# Lines below will give you a hint or solution code\n",
    "#step_7.a.hint()\n",
    "#step_7.a.solution_plot()"
   ]
  },
  {
   "cell_type": "markdown",
   "id": "7b570b7d",
   "metadata": {
    "papermill": {
     "duration": 0.016074,
     "end_time": "2022-07-19T20:33:31.361899",
     "exception": false,
     "start_time": "2022-07-19T20:33:31.345825",
     "status": "completed"
    },
    "tags": []
   },
   "source": [
    "#### Part B\n",
    "\n",
    "You decide to dedicate a section of your report to the fact that chocolate candies tend to be more popular than candies without chocolate.  Which plot is more appropriate to tell this story: the plot from **Step 6**, or the plot from **Step 7**?"
   ]
  },
  {
   "cell_type": "markdown",
   "id": "b0628708",
   "metadata": {
    "papermill": {
     "duration": 0.016066,
     "end_time": "2022-07-19T20:33:31.395243",
     "exception": false,
     "start_time": "2022-07-19T20:33:31.379177",
     "status": "completed"
    },
    "tags": []
   },
   "source": [
    "plot from the Step 7 is more appropiate, It contains less noising information to tell this story"
   ]
  },
  {
   "cell_type": "code",
   "execution_count": 24,
   "id": "e8e94507",
   "metadata": {
    "execution": {
     "iopub.execute_input": "2022-07-19T20:33:31.428826Z",
     "iopub.status.busy": "2022-07-19T20:33:31.428385Z",
     "iopub.status.idle": "2022-07-19T20:33:31.433173Z",
     "shell.execute_reply": "2022-07-19T20:33:31.432079Z"
    },
    "papermill": {
     "duration": 0.024583,
     "end_time": "2022-07-19T20:33:31.435811",
     "exception": false,
     "start_time": "2022-07-19T20:33:31.411228",
     "status": "completed"
    },
    "tags": []
   },
   "outputs": [],
   "source": [
    "#step_7.b.hint()"
   ]
  },
  {
   "cell_type": "code",
   "execution_count": 25,
   "id": "73c2d4c3",
   "metadata": {
    "execution": {
     "iopub.execute_input": "2022-07-19T20:33:31.471632Z",
     "iopub.status.busy": "2022-07-19T20:33:31.470866Z",
     "iopub.status.idle": "2022-07-19T20:33:31.478125Z",
     "shell.execute_reply": "2022-07-19T20:33:31.477291Z"
    },
    "papermill": {
     "duration": 0.027103,
     "end_time": "2022-07-19T20:33:31.480218",
     "exception": false,
     "start_time": "2022-07-19T20:33:31.453115",
     "status": "completed"
    },
    "tags": []
   },
   "outputs": [
    {
     "data": {
      "application/javascript": [
       "parent.postMessage({\"jupyterEvent\": \"custom.exercise_interaction\", \"data\": {\"interactionType\": 3, \"questionType\": 4, \"questionId\": \"7.2_ThinkSwarm\", \"learnToolsVersion\": \"0.3.4\", \"valueTowardsCompletion\": 0.0, \"failureMessage\": \"\", \"exceptionClass\": \"\", \"trace\": \"\", \"outcomeType\": 4}}, \"*\")"
      ],
      "text/plain": [
       "<IPython.core.display.Javascript object>"
      ]
     },
     "metadata": {},
     "output_type": "display_data"
    },
    {
     "data": {
      "text/markdown": [
       "<span style=\"color:#33cc99\">Solution:</span> In this case, the categorical scatter plot from **Step 7** is the more appropriate plot. While both plots tell the desired story, the plot from **Step 6** conveys far more information that could distract from the main point."
      ],
      "text/plain": [
       "Solution: In this case, the categorical scatter plot from **Step 7** is the more appropriate plot. While both plots tell the desired story, the plot from **Step 6** conveys far more information that could distract from the main point."
      ]
     },
     "metadata": {},
     "output_type": "display_data"
    }
   ],
   "source": [
    "# Check your answer (Run this code cell to receive credit!)\n",
    "step_7.b.solution()"
   ]
  },
  {
   "cell_type": "markdown",
   "id": "9da5e5d0",
   "metadata": {
    "papermill": {
     "duration": 0.016988,
     "end_time": "2022-07-19T20:33:31.514155",
     "exception": false,
     "start_time": "2022-07-19T20:33:31.497167",
     "status": "completed"
    },
    "tags": []
   },
   "source": [
    "## Keep going\n",
    "\n",
    "Explore **[histograms and density plots](https://www.kaggle.com/alexisbcook/distributions)**."
   ]
  },
  {
   "cell_type": "markdown",
   "id": "4ffe60e2",
   "metadata": {
    "papermill": {
     "duration": 0.016747,
     "end_time": "2022-07-19T20:33:31.547843",
     "exception": false,
     "start_time": "2022-07-19T20:33:31.531096",
     "status": "completed"
    },
    "tags": []
   },
   "source": [
    "---\n",
    "\n",
    "\n",
    "\n",
    "\n",
    "*Have questions or comments? Visit the [course discussion forum](https://www.kaggle.com/learn/data-visualization/discussion) to chat with other learners.*"
   ]
  }
 ],
 "metadata": {
  "kernelspec": {
   "display_name": "Python 3",
   "language": "python",
   "name": "python3"
  },
  "language_info": {
   "codemirror_mode": {
    "name": "ipython",
    "version": 3
   },
   "file_extension": ".py",
   "mimetype": "text/x-python",
   "name": "python",
   "nbconvert_exporter": "python",
   "pygments_lexer": "ipython3",
   "version": "3.7.12"
  },
  "papermill": {
   "default_parameters": {},
   "duration": 15.969861,
   "end_time": "2022-07-19T20:33:32.286139",
   "environment_variables": {},
   "exception": null,
   "input_path": "__notebook__.ipynb",
   "output_path": "__notebook__.ipynb",
   "parameters": {},
   "start_time": "2022-07-19T20:33:16.316278",
   "version": "2.3.4"
  }
 },
 "nbformat": 4,
 "nbformat_minor": 5
}
